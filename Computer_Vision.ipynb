{
  "nbformat": 4,
  "nbformat_minor": 0,
  "metadata": {
    "colab": {
      "name": "Computer Vision.ipynb",
      "provenance": [],
      "history_visible": true,
      "authorship_tag": "ABX9TyOBWBOJvkNpPpyke7VK8JOW",
      "include_colab_link": true
    },
    "kernelspec": {
      "name": "python3",
      "display_name": "Python 3"
    }
  },
  "cells": [
    {
      "cell_type": "markdown",
      "metadata": {
        "id": "view-in-github",
        "colab_type": "text"
      },
      "source": [
        "<a href=\"https://colab.research.google.com/github/JuanPablo20001404/Practicas/blob/main/Computer_Vision.ipynb\" target=\"_parent\"><img src=\"https://colab.research.google.com/assets/colab-badge.svg\" alt=\"Open In Colab\"/></a>"
      ]
    },
    {
      "cell_type": "markdown",
      "metadata": {
        "id": "MYyFuRfYwWw6"
      },
      "source": [
        "**Computer Vision Cognitive Service**\n",
        "\n",
        "Prueba de entrenamiento del dia 28 de Octubre del 2020"
      ]
    },
    {
      "cell_type": "code",
      "metadata": {
        "id": "jLY4R4fXwVTj"
      },
      "source": [
        "### Instalamos el paquete de Microsft Azure Cognitive Service\n",
        "# -q ejecuta la instalación en modo silencioso\n",
        "!pip install --upgrade azure-cognitiveservices-vision-computervision -q"
      ],
      "execution_count": 32,
      "outputs": []
    },
    {
      "cell_type": "code",
      "metadata": {
        "id": "pFRnJbCuxpWu"
      },
      "source": [
        "### Importamos las bibliotecas de funciones\n",
        "from azure.cognitiveservices.vision.computervision import ComputerVisionClient\n",
        "from azure.cognitiveservices.vision.computervision.models import OperationStatusCodes\n",
        "from azure.cognitiveservices.vision.computervision.models import VisualFeatureTypes\n",
        "from msrest.authentication import CognitiveServicesCredentials\n",
        "\n",
        "from array import array\n",
        "import os\n",
        "from PIL import Image\n",
        "import sys\n",
        "import time"
      ],
      "execution_count": 7,
      "outputs": []
    },
    {
      "cell_type": "code",
      "metadata": {
        "id": "L6McMBxdyHkC"
      },
      "source": [
        "### Auntenticamos el acceso para consumir el recurso\n",
        "endpoint = \"https://fizgon.cognitiveservices.azure.com/\"\n",
        "subscription_key = \"02421427223e40318c8ea2487fa582db\"\n",
        "computervision_client = ComputerVisionClient(endpoint, CognitiveServicesCredentials(subscription_key))"
      ],
      "execution_count": 8,
      "outputs": []
    },
    {
      "cell_type": "code",
      "metadata": {
        "id": "om5a8wqazykH"
      },
      "source": [
        "### Analizamos una imagen desde un url\n",
        "remote_image_url = \"https://okdiario.com/img/2019/07/24/tips-que-debes-saber-para-tener-periquitos-en-casa.jpg\""
      ],
      "execution_count": 37,
      "outputs": []
    },
    {
      "cell_type": "code",
      "metadata": {
        "id": "D_h1ySrg_Cgb",
        "outputId": "37532cc3-ed5b-4737-b35b-2d2cc738685d",
        "colab": {
          "base_uri": "https://localhost:8080/"
        }
      },
      "source": [
        "### Todos los resultados asociados a esa imagen en la url son:\n",
        "from pprint import pprint\n",
        "pprint(description_results.as_dict())"
      ],
      "execution_count": 54,
      "outputs": [
        {
          "output_type": "stream",
          "text": [
            "{'captions': [{'confidence': 0.5337636564327556, 'text': 'un loro en la mano'}],\n",
            " 'metadata': {'format': 'Jpeg', 'height': 558, 'width': 992},\n",
            " 'request_id': 'dce51b0d-e9f7-4881-ba9d-ee73fd268efe',\n",
            " 'tags': ['loro',\n",
            "          'pájaro',\n",
            "          'animal',\n",
            "          'pequeño',\n",
            "          'sostener',\n",
            "          'fruta',\n",
            "          'plátano',\n",
            "          'café',\n",
            "          'colorido',\n",
            "          'parado',\n",
            "          'comiendo',\n",
            "          'tabla',\n",
            "          'rama',\n",
            "          'boca',\n",
            "          'azul',\n",
            "          'encaramado']}\n"
          ],
          "name": "stdout"
        }
      ]
    },
    {
      "cell_type": "code",
      "metadata": {
        "id": "JzWS-OnJ_Q1-",
        "outputId": "cd6e880b-f419-4d71-8e3c-f66b56d85cb4",
        "colab": {
          "base_uri": "https://localhost:8080/"
        }
      },
      "source": [
        "### La mayor probabilidad se ve con:\n",
        "print(\"---Descripción de la imagen---\")\n",
        "if len(description_results.as_dict()['captions']) > 0:\n",
        "    print(\"En la imagen hay:\")\n",
        "    for elemento in description_results.as_dict()['captions']:\n",
        "        print(elemento[\"text\"]+\",\", \"con un grado de confibilidad del {:.2f}%\".format(caption.confidence * 100))\n",
        "else:\n",
        "    print(\"No encontré nada en la imagen\")"
      ],
      "execution_count": 79,
      "outputs": [
        {
          "output_type": "stream",
          "text": [
            "---Descripción de la imagen---\n",
            "En la imagen hay:\n",
            "un loro en la mano, con un grado de confibilidad del 53.38%\n"
          ],
          "name": "stdout"
        }
      ]
    }
  ]
}