{
  "nbformat": 4,
  "nbformat_minor": 0,
  "metadata": {
    "colab": {
      "name": "Untitled0.ipynb",
      "provenance": [],
      "authorship_tag": "ABX9TyOWvGZjwW+N49WVz8e4c8Cg"
    },
    "kernelspec": {
      "name": "python3",
      "display_name": "Python 3"
    }
  },
  "cells": [
    {
      "cell_type": "code",
      "metadata": {
        "id": "A2FxbSpnBP7T"
      },
      "source": [
        "perro = \"negro\""
      ],
      "execution_count": null,
      "outputs": []
    },
    {
      "cell_type": "code",
      "metadata": {
        "id": "GqQPFr_KDPXN",
        "outputId": "e3e2f188-6446-4d9d-ded5-8fd63f3bdb4f",
        "colab": {
          "base_uri": "https://localhost:8080/",
          "height": 34
        }
      },
      "source": [
        "if perro == \"negro\":\n",
        "  print(\"akkakaak awebo\")\n",
        "else:\n",
        "  print(\"ni pedo\")"
      ],
      "execution_count": null,
      "outputs": [
        {
          "output_type": "stream",
          "text": [
            "akkakaak awebo\n"
          ],
          "name": "stdout"
        }
      ]
    },
    {
      "cell_type": "code",
      "metadata": {
        "id": "DkM7PhwBHqnN",
        "outputId": "b32df9b0-4360-4ce7-ab7b-73c5edc91c0d",
        "colab": {
          "base_uri": "https://localhost:8080/",
          "height": 51
        }
      },
      "source": [
        "mi_edad = 39\n",
        "print(mi_edad / 2)\n",
        "if mi_edad == 20:\n",
        "  print(\"Esa es tu edad\")\n",
        "else:\n",
        "  print(\"ora oraaa :0\")"
      ],
      "execution_count": 7,
      "outputs": [
        {
          "output_type": "stream",
          "text": [
            "19.5\n",
            "ora oraaa :0\n"
          ],
          "name": "stdout"
        }
      ]
    }
  ]
}