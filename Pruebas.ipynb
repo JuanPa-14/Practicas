{
  "nbformat": 4,
  "nbformat_minor": 0,
  "metadata": {
    "colab": {
      "name": "Untitled0.ipynb",
      "provenance": [],
      "authorship_tag": "ABX9TyN5RE/Kqh81PPbqE7aQ62UB"
    },
    "kernelspec": {
      "name": "python3",
      "display_name": "Python 3"
    }
  },
  "cells": [
    {
      "cell_type": "code",
      "metadata": {
        "id": "A2FxbSpnBP7T"
      },
      "source": [
        "perro = \"negro\""
      ],
      "execution_count": 16,
      "outputs": []
    },
    {
      "cell_type": "code",
      "metadata": {
        "id": "GqQPFr_KDPXN",
        "outputId": "e3e2f188-6446-4d9d-ded5-8fd63f3bdb4f",
        "colab": {
          "base_uri": "https://localhost:8080/",
          "height": 34
        }
      },
      "source": [
        "if perro == \"negro\":\n",
        "  print(\"akkakaak awebo\")\n",
        "else:\n",
        "  print(\"ni pedo\")"
      ],
      "execution_count": 17,
      "outputs": [
        {
          "output_type": "stream",
          "text": [
            "akkakaak awebo\n"
          ],
          "name": "stdout"
        }
      ]
    }
  ]
}