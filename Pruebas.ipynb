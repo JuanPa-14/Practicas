{
  "nbformat": 4,
  "nbformat_minor": 0,
  "metadata": {
    "colab": {
      "name": "Untitled0.ipynb",
      "provenance": [],
      "authorship_tag": "ABX9TyOxMoLeCzKBheCbs7IkcrZR",
      "include_colab_link": true
    },
    "kernelspec": {
      "name": "python3",
      "display_name": "Python 3"
    }
  },
  "cells": [
    {
      "cell_type": "markdown",
      "metadata": {
        "id": "view-in-github",
        "colab_type": "text"
      },
      "source": [
        "<a href=\"https://colab.research.google.com/github/JuanPablo20001404/Practicas/blob/main/Pruebas.ipynb\" target=\"_parent\"><img src=\"https://colab.research.google.com/assets/colab-badge.svg\" alt=\"Open In Colab\"/></a>"
      ]
    },
    {
      "cell_type": "markdown",
      "metadata": {
        "id": "Wrz5_dmicvXO"
      },
      "source": [
        "**Primeras pruebas:**"
      ]
    },
    {
      "cell_type": "code",
      "metadata": {
        "id": "A2FxbSpnBP7T"
      },
      "source": [
        "perro = \"negro\""
      ],
      "execution_count": null,
      "outputs": []
    },
    {
      "cell_type": "code",
      "metadata": {
        "id": "GqQPFr_KDPXN",
        "outputId": "e3e2f188-6446-4d9d-ded5-8fd63f3bdb4f",
        "colab": {
          "base_uri": "https://localhost:8080/",
          "height": 34
        }
      },
      "source": [
        "if perro == \"negro\":\n",
        "  print(\"akkakaak awebo\")\n",
        "else:\n",
        "  print(\"ni pedo\")"
      ],
      "execution_count": null,
      "outputs": [
        {
          "output_type": "stream",
          "text": [
            "akkakaak awebo\n"
          ],
          "name": "stdout"
        }
      ]
    },
    {
      "cell_type": "code",
      "metadata": {
        "id": "DkM7PhwBHqnN",
        "outputId": "b32df9b0-4360-4ce7-ab7b-73c5edc91c0d",
        "colab": {
          "base_uri": "https://localhost:8080/",
          "height": 51
        }
      },
      "source": [
        "mi_edad = 39\n",
        "print(mi_edad / 2)\n",
        "if mi_edad == 20:\n",
        "  print(\"Esa es tu edad\")\n",
        "else:\n",
        "  print(\"ora oraaa :0\")"
      ],
      "execution_count": null,
      "outputs": [
        {
          "output_type": "stream",
          "text": [
            "19.5\n",
            "ora oraaa :0\n"
          ],
          "name": "stdout"
        }
      ]
    },
    {
      "cell_type": "markdown",
      "metadata": {
        "id": "NbCuIIazc-v3"
      },
      "source": [
        "**Segunda prueba:**"
      ]
    },
    {
      "cell_type": "code",
      "metadata": {
        "id": "2CBbNlWyALol",
        "outputId": "b491efe3-f57d-49aa-d04f-1fe52870e9d2",
        "colab": {
          "base_uri": "https://localhost:8080/",
          "height": 68
        }
      },
      "source": [
        "print(\"¡Bienvenido!\")\n",
        "key = input(\"Introduzca su contraseña: \")\n",
        "if key == \"uwu\":\n",
        "  print(\"Contraseña correcta\")\n",
        "else:\n",
        "  print(\"Contraseña incorrecta. Intentelo de nuevo\")"
      ],
      "execution_count": null,
      "outputs": [
        {
          "output_type": "stream",
          "text": [
            "¡Bienvenido!\n",
            "Introduzca su contraseña: unu\n",
            "Contraseña incorrecta. Intentelo de nuevo\n"
          ],
          "name": "stdout"
        }
      ]
    },
    {
      "cell_type": "markdown",
      "metadata": {
        "id": "i9dMvtvMdTwX"
      },
      "source": [
        "**Tercer prueba:**"
      ]
    },
    {
      "cell_type": "code",
      "metadata": {
        "id": "VStv3jyQAPyG",
        "outputId": "f2cfd5a1-233f-4d4b-e205-9ec46256626c",
        "colab": {
          "base_uri": "https://localhost:8080/",
          "height": 34
        }
      },
      "source": [
        "import random\n",
        "print(random.randint(1, 6))"
      ],
      "execution_count": 32,
      "outputs": [
        {
          "output_type": "stream",
          "text": [
            "3\n"
          ],
          "name": "stdout"
        }
      ]
    },
    {
      "cell_type": "code",
      "metadata": {
        "id": "sMSE7TR1dlPY",
        "outputId": "8beb80b8-3df1-41fa-f82d-ca935ea1f37d",
        "colab": {
          "base_uri": "https://localhost:8080/",
          "height": 119
        }
      },
      "source": [
        "def tira_dados(n_dados):\n",
        "  for dados in range(n_dados):\n",
        "    print(random.randint(1, 6))\n",
        "tira_dados(6)"
      ],
      "execution_count": 39,
      "outputs": [
        {
          "output_type": "stream",
          "text": [
            "1\n",
            "6\n",
            "1\n",
            "3\n",
            "5\n",
            "2\n"
          ],
          "name": "stdout"
        }
      ]
    },
    {
      "cell_type": "code",
      "metadata": {
        "id": "eQBTxBN8g0c3",
        "outputId": "de5d3892-730b-40f2-909a-8352639aab27",
        "colab": {
          "base_uri": "https://localhost:8080/",
          "height": 129
        }
      },
      "source": [
        "Mermeladas = [\n",
        "  {\n",
        "    \"Fruta base\": \"Mango\"\n",
        "    \"Contenido (gr)\": 200\n",
        "    \"Frasco\": \"Cristal\"\n",
        "  },\n",
        "  {\n",
        "    \"Fruta base\": \"Mango\"\n",
        "    \"Contenido (gr)\": 150\n",
        "    \"Frasco\": \"Plastico\"\n",
        "  },\n",
        "  {\n",
        "    \"Fruta base\": \"Durazno\"\n",
        "    \"Contenido (gr)\": 180\n",
        "    \"Frasco\": \"Metal\"\n",
        "  }\n",
        "]"
      ],
      "execution_count": 61,
      "outputs": [
        {
          "output_type": "error",
          "ename": "SyntaxError",
          "evalue": "ignored",
          "traceback": [
            "\u001b[0;36m  File \u001b[0;32m\"<ipython-input-61-02a8d9cc54a4>\"\u001b[0;36m, line \u001b[0;32m4\u001b[0m\n\u001b[0;31m    \"Contenido (gr)\": 200\u001b[0m\n\u001b[0m                    ^\u001b[0m\n\u001b[0;31mSyntaxError\u001b[0m\u001b[0;31m:\u001b[0m invalid syntax\n"
          ]
        }
      ]
    }
  ]
}