{
  "nbformat": 4,
  "nbformat_minor": 0,
  "metadata": {
    "colab": {
      "name": "Untitled0.ipynb",
      "provenance": [],
      "authorship_tag": "ABX9TyO8OFMoY7n9AHn6Wgff5PbE",
      "include_colab_link": true
    },
    "kernelspec": {
      "name": "python3",
      "display_name": "Python 3"
    }
  },
  "cells": [
    {
      "cell_type": "markdown",
      "metadata": {
        "id": "view-in-github",
        "colab_type": "text"
      },
      "source": [
        "<a href=\"https://colab.research.google.com/github/JuanPablo20001404/Practicas/blob/main/Pruebas.ipynb\" target=\"_parent\"><img src=\"https://colab.research.google.com/assets/colab-badge.svg\" alt=\"Open In Colab\"/></a>"
      ]
    },
    {
      "cell_type": "markdown",
      "metadata": {
        "id": "Wrz5_dmicvXO"
      },
      "source": [
        "**Primeras pruebas:**"
      ]
    },
    {
      "cell_type": "code",
      "metadata": {
        "id": "A2FxbSpnBP7T"
      },
      "source": [
        "perro = \"negro\""
      ],
      "execution_count": null,
      "outputs": []
    },
    {
      "cell_type": "code",
      "metadata": {
        "id": "GqQPFr_KDPXN",
        "outputId": "e3e2f188-6446-4d9d-ded5-8fd63f3bdb4f",
        "colab": {
          "base_uri": "https://localhost:8080/",
          "height": 34
        }
      },
      "source": [
        "if perro == \"negro\":\n",
        "  print(\"akkakaak awebo\")\n",
        "else:\n",
        "  print(\"ni pedo\")"
      ],
      "execution_count": null,
      "outputs": [
        {
          "output_type": "stream",
          "text": [
            "akkakaak awebo\n"
          ],
          "name": "stdout"
        }
      ]
    },
    {
      "cell_type": "code",
      "metadata": {
        "id": "DkM7PhwBHqnN",
        "outputId": "b32df9b0-4360-4ce7-ab7b-73c5edc91c0d",
        "colab": {
          "base_uri": "https://localhost:8080/",
          "height": 51
        }
      },
      "source": [
        "mi_edad = 39\n",
        "print(mi_edad / 2)\n",
        "if mi_edad == 20:\n",
        "  print(\"Esa es tu edad\")\n",
        "else:\n",
        "  print(\"ora oraaa :0\")"
      ],
      "execution_count": null,
      "outputs": [
        {
          "output_type": "stream",
          "text": [
            "19.5\n",
            "ora oraaa :0\n"
          ],
          "name": "stdout"
        }
      ]
    },
    {
      "cell_type": "markdown",
      "metadata": {
        "id": "NbCuIIazc-v3"
      },
      "source": [
        "**Segunda prueba:**"
      ]
    },
    {
      "cell_type": "code",
      "metadata": {
        "id": "2CBbNlWyALol",
        "outputId": "b491efe3-f57d-49aa-d04f-1fe52870e9d2",
        "colab": {
          "base_uri": "https://localhost:8080/",
          "height": 68
        }
      },
      "source": [
        "print(\"¡Bienvenido!\")\n",
        "key = input(\"Introduzca su contraseña: \")\n",
        "if key == \"uwu\":\n",
        "  print(\"Contraseña correcta\")\n",
        "else:\n",
        "  print(\"Contraseña incorrecta. Intentelo de nuevo\")"
      ],
      "execution_count": null,
      "outputs": [
        {
          "output_type": "stream",
          "text": [
            "¡Bienvenido!\n",
            "Introduzca su contraseña: unu\n",
            "Contraseña incorrecta. Intentelo de nuevo\n"
          ],
          "name": "stdout"
        }
      ]
    },
    {
      "cell_type": "markdown",
      "metadata": {
        "id": "i9dMvtvMdTwX"
      },
      "source": [
        "**Tercer prueba:**"
      ]
    },
    {
      "cell_type": "code",
      "metadata": {
        "id": "VStv3jyQAPyG",
        "outputId": "f2cfd5a1-233f-4d4b-e205-9ec46256626c",
        "colab": {
          "base_uri": "https://localhost:8080/",
          "height": 34
        }
      },
      "source": [
        "import random\n",
        "print(random.randint(1, 6))"
      ],
      "execution_count": null,
      "outputs": [
        {
          "output_type": "stream",
          "text": [
            "3\n"
          ],
          "name": "stdout"
        }
      ]
    },
    {
      "cell_type": "code",
      "metadata": {
        "id": "sMSE7TR1dlPY",
        "outputId": "8beb80b8-3df1-41fa-f82d-ca935ea1f37d",
        "colab": {
          "base_uri": "https://localhost:8080/",
          "height": 119
        }
      },
      "source": [
        "def tira_dados(n_dados):\n",
        "  for dados in range(n_dados):\n",
        "    print(random.randint(1, 6))\n",
        "tira_dados(6)"
      ],
      "execution_count": null,
      "outputs": [
        {
          "output_type": "stream",
          "text": [
            "1\n",
            "6\n",
            "1\n",
            "3\n",
            "5\n",
            "2\n"
          ],
          "name": "stdout"
        }
      ]
    },
    {
      "cell_type": "code",
      "metadata": {
        "id": "eQBTxBN8g0c3"
      },
      "source": [
        "Mermeladas = [                ##Diccionario; Solo listas\n",
        "   {\n",
        "      \"Fruta base\": \"Mango\",\n",
        "      \"Contenido (gr)\": 200,\n",
        "      \"Frasco\": \"Cristal\",\n",
        "    },\n",
        "    {\n",
        "      \"Fruta base\": \"Mango\",\n",
        "      \"Contenido (gr)\": 150,\n",
        "      \"Frasco\": \"Plastico\",\n",
        "    },\n",
        "    {\n",
        "      \"Fruta base\": \"Durazno\",\n",
        "      \"Contenido (gr)\": 180,\n",
        "      \"Frasco\": \"Metal\",\n",
        "    }\n",
        "]"
      ],
      "execution_count": null,
      "outputs": []
    },
    {
      "cell_type": "code",
      "metadata": {
        "id": "oR5eZ7K-sIwA",
        "outputId": "772e4179-8b22-46b2-be58-942981c55dc3",
        "colab": {
          "base_uri": "https://localhost:8080/",
          "height": 51
        }
      },
      "source": [
        "print(Mermeladas[1][\"Frasco\"])\n",
        "Mermeladas [1][\"Frasco\"] = \"Metal\"\n",
        "print(Mermeladas[1][\"Frasco\"])"
      ],
      "execution_count": null,
      "outputs": [
        {
          "output_type": "stream",
          "text": [
            "Plastico\n",
            "Metal\n"
          ],
          "name": "stdout"
        }
      ]
    },
    {
      "cell_type": "code",
      "metadata": {
        "id": "Dv1gLlSO2_Rc"
      },
      "source": [
        "Otras_Mermeladaz = [            ##Diccionario; Lista de listas\n",
        "  {\n",
        "    \"M1\": {  \n",
        "      \"Fruta base\": \"Mango\",\n",
        "      \"Contenido (gr)\": 200,\n",
        "      \"Frasco\": \"Cristal\",\n",
        "    },\n",
        "    \"M2\": {\n",
        "      \"Fruta base\": \"Mango\",\n",
        "      \"Contenido (gr)\": 150,\n",
        "      \"Frasco\": \"Plastico\",\n",
        "    },\n",
        "    \"M3\": {\n",
        "      \"Fruta base\": \"Durazno\",\n",
        "      \"Contenido (gr)\": 180,\n",
        "      \"Frasco\": \"Metal\",\n",
        "    }\n",
        "  }\n",
        "]"
      ],
      "execution_count": null,
      "outputs": []
    },
    {
      "cell_type": "code",
      "metadata": {
        "id": "HiZw3Z6h4Bza",
        "outputId": "4d6d22b3-b215-4afb-f836-37ce8767e614",
        "colab": {
          "base_uri": "https://localhost:8080/",
          "height": 51
        }
      },
      "source": [
        "print(Otras_Mermeladaz[0][\"M1\"][\"Frasco\"])\n",
        "Otras_Mermeladaz[0][\"M1\"][\"Frasco\"] = \"Plastico\"\n",
        "print(Otras_Mermeladaz[0][\"M1\"][\"Frasco\"])"
      ],
      "execution_count": null,
      "outputs": [
        {
          "output_type": "stream",
          "text": [
            "Cristal\n",
            "Plastico\n"
          ],
          "name": "stdout"
        }
      ]
    },
    {
      "cell_type": "markdown",
      "metadata": {
        "id": "ntyB_Dw_HJ-1"
      },
      "source": [
        "**Cuarta prueba:**"
      ]
    },
    {
      "cell_type": "code",
      "metadata": {
        "id": "14B12PTtHNif",
        "outputId": "67f54295-28aa-4d9f-89b2-6f5413e7efcf",
        "colab": {
          "base_uri": "https://localhost:8080/",
          "height": 119
        }
      },
      "source": [
        "### Prueba for 1\n",
        "## Imprime cinco veces la edad\n",
        "edad = input(\"¿Cuál es su edad?: \") \n",
        "for i in range(0, 5):\n",
        "  print(\"Su edad es: \", edad)"
      ],
      "execution_count": null,
      "outputs": [
        {
          "output_type": "stream",
          "text": [
            "¿Cuál es su edad?: 20\n",
            "Su edad es:  20\n",
            "Su edad es:  20\n",
            "Su edad es:  20\n",
            "Su edad es:  20\n",
            "Su edad es:  20\n"
          ],
          "name": "stdout"
        }
      ]
    },
    {
      "cell_type": "code",
      "metadata": {
        "id": "X8w9qhdmd6Vq",
        "outputId": "5d325131-74c9-4f2f-a338-41b509b16779",
        "colab": {
          "base_uri": "https://localhost:8080/",
          "height": 119
        }
      },
      "source": [
        "### Prueba for \n",
        "## Preguntar por contraseña\n",
        "password = \"uwu\"\n",
        "for i in range(0, 3):\n",
        "  password = input(\"Indique su contraseña: \")\n",
        "  if password == \"uwu\" and i < 3:\n",
        "    print(\"Contraseña correcta, !Bienvenido¡\")\n",
        "    break\n",
        "  elif password != \"uwu\" and i == 2:\n",
        "    print(\"Intentos agotados\")\n",
        "  else:\n",
        "    print(\"Intentelo de nuevo\")"
      ],
      "execution_count": 3,
      "outputs": [
        {
          "output_type": "stream",
          "text": [
            "Indique su contraseña: unu\n",
            "Intentelo de nuevo\n",
            "Indique su contraseña: unu\n",
            "Intentelo de nuevo\n",
            "Indique su contraseña: uwu\n",
            "Contraseña correcta, !Bienvenido¡\n"
          ],
          "name": "stdout"
        }
      ]
    }
  ]
}