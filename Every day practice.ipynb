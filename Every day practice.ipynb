{
  "nbformat": 4,
  "nbformat_minor": 0,
  "metadata": {
    "colab": {
      "name": "Untitled2.ipynb",
      "provenance": [],
      "authorship_tag": "ABX9TyOmaL5PpmTYJZnXHlQN5afy",
      "include_colab_link": true
    },
    "kernelspec": {
      "name": "python3",
      "display_name": "Python 3"
    }
  },
  "cells": [
    {
      "cell_type": "markdown",
      "metadata": {
        "id": "view-in-github",
        "colab_type": "text"
      },
      "source": [
        "<a href=\"https://colab.research.google.com/github/JuanPablo20001404/Practicas/blob/main/Every%20day%20practice.ipynb\" target=\"_parent\"><img src=\"https://colab.research.google.com/assets/colab-badge.svg\" alt=\"Open In Colab\"/></a>"
      ]
    },
    {
      "cell_type": "code",
      "metadata": {
        "id": "CeefT_UAmt-U",
        "colab": {
          "base_uri": "https://localhost:8080/"
        },
        "outputId": "0a2ce8fa-ba47-47ca-8fde-2d30c87eef95"
      },
      "source": [
        "import random\r\n",
        "nF = random.randint(1, 10)\r\n",
        "\r\n",
        "Frases = [\r\n",
        "  {\r\n",
        "    \"Frase\": \"Hold your horses\",\r\n",
        "    \"Significado\": \"Wait a moment\",\r\n",
        "  },\r\n",
        "  {\r\n",
        "    \"Frase\": \"Pice of cake\",\r\n",
        "    \"Significado\": \"Pan comido\",\r\n",
        "  },\r\n",
        "  {\r\n",
        "    \"Frase\": \"Lay someone off\",\r\n",
        "    \"Significado\": \"Despedido\",\r\n",
        "  },\r\n",
        "  {\r\n",
        "    \"Frase\": \"To smell a rat\",\r\n",
        "    \"Significado\": \"To sense something is wrong\",\r\n",
        "  },\r\n",
        "  {\r\n",
        "    \"Frase\": \"Call off\",\r\n",
        "    \"Significado\": \"Cancel\",\r\n",
        "  },\r\n",
        "  {\r\n",
        "    \"Frase\": \"Take over\",\r\n",
        "    \"Significado\": \"Take control of something\",\r\n",
        "  },\r\n",
        "  {\r\n",
        "    \"Frase\": \"Burn out\",\r\n",
        "    \"Significado\": \"Be extremely tired\",\r\n",
        "  },\r\n",
        "  {\r\n",
        "    \"Frase\": \"Work out\",\r\n",
        "    \"Significado\": \"Develop in a successful way\",\r\n",
        "  },\r\n",
        "  {\r\n",
        "    \"Frase\": \"Lay someone off\",\r\n",
        "    \"Significado\": \"Despedido\",\r\n",
        "  },\r\n",
        "  {\r\n",
        "    \"Frase\": \"Knuckle down\",\r\n",
        "    \"Significado\": \"Start working harder\",\r\n",
        "  },\r\n",
        "  {\r\n",
        "    \"Frase\": \"Paint the town red\",\r\n",
        "    \"Significado\": \"Go out drinking and partying\",\r\n",
        "  },\r\n",
        "]\r\n",
        "\r\n",
        "print(nF, \")\", '\"{}\"'.format(Frases[nF][\"Frase\"]), \"es lo mismo que:\")\r\n",
        "\r\n",
        "\r\n",
        "for i in range(0, 3):\r\n",
        "  Respuesta = input(\" \")\r\n",
        "  if Respuesta == (Frases[nF][\"Significado\"]) and i < 3:\r\n",
        "    print(\"----- Correcto :3! -----\")\r\n",
        "    break\r\n",
        "  elif Respuesta != (Frases[nF][\"Significado\"]) and i == 2:\r\n",
        "    print(\"<<< ai, ya no quedan más intentos :c >>>\")\r\n",
        "  else:\r\n",
        "    print(\"<<< Intentalo de nuez :D >>>\")"
      ],
      "execution_count": 7,
      "outputs": [
        {
          "output_type": "stream",
          "text": [
            "6 ) \"Burn out\" es lo mismo que:\n",
            " a\n",
            "<<< Intentalo de nuez :D >>>\n",
            " s\n",
            "<<< Intentalo de nuez :D >>>\n",
            " d\n",
            "<<< ai, ya no quedan intentos :c >>>\n"
          ],
          "name": "stdout"
        }
      ]
    }
  ]
}