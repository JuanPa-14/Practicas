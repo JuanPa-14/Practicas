{
  "nbformat": 4,
  "nbformat_minor": 0,
  "metadata": {
    "colab": {
      "name": "Untitled1.ipynb",
      "provenance": [],
      "authorship_tag": "ABX9TyOB2/N7WoAIfZxUqZVPvrnl",
      "include_colab_link": true
    },
    "kernelspec": {
      "name": "python3",
      "display_name": "Python 3"
    }
  },
  "cells": [
    {
      "cell_type": "markdown",
      "metadata": {
        "id": "view-in-github",
        "colab_type": "text"
      },
      "source": [
        "<a href=\"https://colab.research.google.com/github/JuanPablo20001404/Practicas/blob/main/Speech%20to%20text.ipynb\" target=\"_parent\"><img src=\"https://colab.research.google.com/assets/colab-badge.svg\" alt=\"Open In Colab\"/></a>"
      ]
    },
    {
      "cell_type": "markdown",
      "metadata": {
        "id": "vkZU_xpihHMZ"
      },
      "source": [
        "**Ejercicio Speech to Text**\n",
        "---\n",
        "Prueba de entrenamiento del dia 27 de Octubre del 2020\n",
        "\n"
      ]
    },
    {
      "cell_type": "code",
      "metadata": {
        "id": "y_ZH5fUcg_fK",
        "outputId": "3c5d641d-0c17-4e15-df32-95f48a9fd73e",
        "colab": {
          "base_uri": "https://localhost:8080/",
          "height": 34
        }
      },
      "source": [
        "### 27/10/2020: Speech to text\n",
        "### Instalacion de librerias\n",
        "!pip install azure-cognitiveservices-speech"
      ],
      "execution_count": 31,
      "outputs": [
        {
          "output_type": "stream",
          "text": [
            "Requirement already satisfied: azure-cognitiveservices-speech in /usr/local/lib/python3.6/dist-packages (1.14.0)\n"
          ],
          "name": "stdout"
        }
      ]
    },
    {
      "cell_type": "code",
      "metadata": {
        "id": "N9ewHGx8iMto"
      },
      "source": [
        "### Importación del proyecto a Python\n",
        "import azure.cognitiveservices.speech as speechsdk"
      ],
      "execution_count": 32,
      "outputs": []
    },
    {
      "cell_type": "code",
      "metadata": {
        "id": "Eb1t-bn9iq6v"
      },
      "source": [
        "### Para hacer las solicitudes necesitamos los elementos que te otorga y especificas en el portal de Azure\n",
        "speech_key, service_region = \"85cf63a870a34eb8ad25eed6f41dcea6\", \"southcentralus\"\n",
        "speech_config = speechsdk.SpeechConfig(subscription=speech_key, region=service_region)\n",
        "speech_config.speech_recognition_language=\"en-US\""
      ],
      "execution_count": 33,
      "outputs": []
    },
    {
      "cell_type": "code",
      "metadata": {
        "id": "hO1VUcIOrbLm",
        "outputId": "33b08a9e-0e5f-4dd2-9c16-92c9199945a0",
        "colab": {
          "base_uri": "https://localhost:8080/",
          "height": 34
        }
      },
      "source": [
        "### Conexión con los archivos en drive\n",
        "from google.colab import drive\n",
        "drive.mount('/content/drive')"
      ],
      "execution_count": 34,
      "outputs": [
        {
          "output_type": "stream",
          "text": [
            "Drive already mounted at /content/drive; to attempt to forcibly remount, call drive.mount(\"/content/drive\", force_remount=True).\n"
          ],
          "name": "stdout"
        }
      ]
    },
    {
      "cell_type": "code",
      "metadata": {
        "id": "XAPstQR5jTAT"
      },
      "source": [
        "### Para iniciar el proceso de reconocimiento:\n",
        "audio_input = speechsdk.AudioConfig(filename=\"/content/drive/My Drive/Colab Notebooks/Regresión/Data/Voice.wav\")\n",
        "speech_recognizer = speechsdk.SpeechRecognizer(speech_config=speech_config, audio_config=audio_input)"
      ],
      "execution_count": 35,
      "outputs": []
    },
    {
      "cell_type": "code",
      "metadata": {
        "id": "9FjHk-our-_G"
      },
      "source": [
        "### Para evaluar el reconocimiento:\n",
        "result = speech_recognizer.recognize_once()"
      ],
      "execution_count": 36,
      "outputs": []
    },
    {
      "cell_type": "code",
      "metadata": {
        "id": "QULCh4UYsBM-",
        "outputId": "27cae89e-734d-4ba3-8b35-6499b0b3ba0e",
        "colab": {
          "base_uri": "https://localhost:8080/",
          "height": 34
        }
      },
      "source": [
        "if result.reason == speechsdk.ResultReason.RecognizedSpeech:\n",
        "    print(\"Recognized: {}\".format(result.text))\n",
        "elif result.reason == speechsdk.ResultReason.NoMatch:\n",
        "    print(\"No speech could be recognized: {}\".format(result.no_match_details))\n",
        "elif result.reason == speechsdk.ResultReason.Canceled:\n",
        "    cancellation_details = result.cancellation_details\n",
        "    print(\"Speech Recognition canceled: {}\".format(cancellation_details.reason))\n",
        "    if cancellation_details.reason == speechsdk.CancellationReason.Error:\n",
        "        print(\"Error details: {}\".format(cancellation_details.error_details))"
      ],
      "execution_count": 37,
      "outputs": [
        {
          "output_type": "stream",
          "text": [
            "Recognized: Hi, you are welcome to my first conversion speech to text.\n"
          ],
          "name": "stdout"
        }
      ]
    }
  ]
}